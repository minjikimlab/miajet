{
 "cells": [
  {
   "cell_type": "markdown",
   "id": "ce3d7e0d",
   "metadata": {},
   "source": [
    "# Plot Aggregate"
   ]
  },
  {
   "cell_type": "markdown",
   "id": "13b72763",
   "metadata": {},
   "source": [
    "Notebook to load experiment results and plot the following:\n",
    "* Average contact map of the jet locations from the results\n",
    "    * 1D tracks (optional)\n",
    "* Histogram of the distribution of jet lengths in basepairs"
   ]
  },
  {
   "cell_type": "code",
   "execution_count": null,
   "id": "19bc7d13",
   "metadata": {},
   "outputs": [],
   "source": [
    "import pandas as pd\n",
    "import hicstraw\n",
    "import bioframe as bf\n",
    "import numpy as np\n",
    "import matplotlib.pyplot as plt\n",
    "import re"
   ]
  },
  {
   "cell_type": "code",
   "execution_count": 3,
   "id": "818a2a8c",
   "metadata": {},
   "outputs": [],
   "source": [
    "def get_pileups(hic_file, bed_df_in, resolution, chrom_sizes_file,\n",
    "                chromosomes='all', window_range=(None, None),\n",
    "                data_type=\"observed\", normalization=\"KR\", sort=False):\n",
    "    \"\"\"\n",
    "    Processes Hi-C data to generate pileups for genomic regions specified in a BED-format DataFrame.\n",
    "\n",
    "    Returns:\n",
    "    --------\n",
    "    pileups : list of numpy arrays\n",
    "        Each array is a pileup matrix of Hi-C interaction data.\n",
    "    bed_df  : pandas DataFrame\n",
    "        Possibly sorted and trimmed bed DataFrame used for pileups.\n",
    "    \"\"\"\n",
    "    bed_df = bed_df_in.copy()\n",
    "\n",
    "    # Optional sort on natural chromosome order\n",
    "    if sort:\n",
    "        # Define a key function for numeric and special chromosomes\n",
    "        def chrom_key(c):\n",
    "            m = re.search(r\"(\\d+)$\", c)\n",
    "            if m:\n",
    "                return int(m.group(1))\n",
    "            cl = c.lower()\n",
    "            if cl.endswith('x'):\n",
    "                return 23\n",
    "            if cl.endswith('y'):\n",
    "                return 24\n",
    "            if cl.endswith(('m', 'mt')):\n",
    "                return 25\n",
    "            return 100\n",
    "\n",
    "        bed_df['sort_key'] = bed_df['chrom'].map(chrom_key)\n",
    "        bed_df = bed_df.sort_values(['sort_key', 'start', 'end'])\n",
    "        bed_df = bed_df.drop(columns=['sort_key']).reset_index(drop=True)\n",
    "\n",
    "    # Load chromosome sizes\n",
    "    chrom_sizes = pd.read_csv(chrom_sizes_file, sep='\\t', header=None,\n",
    "                              names=['chrom', 'end'])\n",
    "    chrom_sizes['start'] = 0\n",
    "    chrom_sizes = chrom_sizes[['chrom', 'start', 'end']]\n",
    "\n",
    "    # Handle custom window around midpoints\n",
    "    win_up, win_down = window_range\n",
    "    if win_up is not None or win_down is not None:\n",
    "        bed_df['midpoint'] = ((bed_df['start'] + bed_df['end']) // 2)\n",
    "        # default missing values\n",
    "        win_up = win_up or 0\n",
    "        win_down = win_down or 0\n",
    "        bed_df['start'] = bed_df['midpoint'] - win_up\n",
    "        bed_df['end'] = bed_df['midpoint'] + win_down\n",
    "        bed_df = bed_df.drop(columns=['midpoint'])\n",
    "        # Trim out-of-bounds\n",
    "        # bioframe.trim expects a 'name' column on chrom_sizes\n",
    "        chrom_sizes['name'] = chrom_sizes['chrom'] + '-valid'\n",
    "        bed_df[['start', 'end']] = bed_df[['start', 'end']].astype(int)\n",
    "        bed_df = bf.trim(bed_df, chrom_sizes)\n",
    "        bed_df = bed_df.dropna().reset_index(drop=True)\n",
    "        bed_df[['start', 'end']] = bed_df[['start', 'end']].astype(int)\n",
    "\n",
    "    # Determine which chromosomes to include\n",
    "    if chromosomes == 'all':\n",
    "        chrom_set = list(bed_df['chrom'].unique())\n",
    "    elif isinstance(chromosomes, (list, np.ndarray)):\n",
    "        chrom_set = list(set(bed_df['chrom'].unique()) & set(chromosomes))\n",
    "    elif isinstance(chromosomes, str):\n",
    "        chrom_set = [chromosomes]\n",
    "    else:\n",
    "        print(f\"Warning: 'chromosomes' argument improperly formatted: {chromosomes}\")\n",
    "        chrom_set = list(bed_df['chrom'].unique())\n",
    "\n",
    "    # Filter bed_df by chrom_set in both branches\n",
    "    bed_df = bed_df[bed_df['chrom'].isin(chrom_set)].reset_index(drop=True)\n",
    "\n",
    "    # Open Hi-C file and detect prefix usage\n",
    "    hic = hicstraw.HiCFile(hic_file)\n",
    "    names = [c.name for c in hic.getChromosomes()]\n",
    "    no_chr_prefix = not any(n.startswith('chr') for n in names)\n",
    "\n",
    "    # Build pileups\n",
    "    pileups = []\n",
    "    if sort:\n",
    "        for chrom in chrom_set:\n",
    "            key = chrom[3:] if no_chr_prefix and chrom.startswith('chr') else chrom\n",
    "            mzd = hic.getMatrixZoomData(key, key, data_type, normalization,\n",
    "                                         'BP', int(resolution))\n",
    "            sub = bed_df[bed_df['chrom'] == chrom]\n",
    "            for _, row in sub.iterrows():\n",
    "                mat = mzd.getRecordsAsMatrix(int(row['start']), int(row['end']),\n",
    "                                             int(row['start']), int(row['end']))\n",
    "                pileups.append(mat)\n",
    "    else:\n",
    "        for _, row in bed_df.iterrows():\n",
    "            chrom = row['chrom']\n",
    "            key = chrom[3:] if no_chr_prefix and chrom.startswith('chr') else chrom\n",
    "            mzd = hic.getMatrixZoomData(key, key, data_type, normalization,\n",
    "                                         'BP', int(resolution))\n",
    "            mat = mzd.getRecordsAsMatrix(int(row['start']), int(row['end']),\n",
    "                                         int(row['start']), int(row['end']))\n",
    "            pileups.append(mat)\n",
    "\n",
    "    return pileups, bed_df"
   ]
  },
  {
   "cell_type": "code",
   "execution_count": null,
   "id": "b62079cd",
   "metadata": {},
   "outputs": [],
   "source": [
    "# Let the notebook know what result you want to aggregate and analyze\n",
    "# Specify the \"*_expanded_table.csv\" file (either a single chromosome, or whole genome after running `combine_results.ipynb`)\n",
    "\n",
    "f_expanded_table = \"/nfs/turbo/umms-minjilab/sionkim/miajet_output/splenic-B-cell_WT_insitu-hic_GSE82144_mm9_chr_combined_50Kb/splenic-B-cell_WT_insitu-hic_GSE82144_mm9_chr_combined_50Kb_expanded_table.csv\"\n",
    "\n",
    "hic_file = \"/nfs/turbo/umms-minjilab/downloaded_data/splenic-B-cell_WT_insitu-hic_Kieffer-Kwon-2018_GSE82144_mm9.hic\"\n",
    "\n",
    "# other params?"
   ]
  },
  {
   "cell_type": "code",
   "execution_count": null,
   "id": "d92606b8",
   "metadata": {},
   "outputs": [],
   "source": [
    "get_pileups(hic_file)"
   ]
  },
  {
   "cell_type": "code",
   "execution_count": null,
   "id": "98d846bc",
   "metadata": {},
   "outputs": [],
   "source": []
  },
  {
   "cell_type": "code",
   "execution_count": null,
   "id": "58dff1ee",
   "metadata": {},
   "outputs": [],
   "source": []
  },
  {
   "cell_type": "code",
   "execution_count": null,
   "id": "d05bf596",
   "metadata": {},
   "outputs": [],
   "source": []
  },
  {
   "cell_type": "code",
   "execution_count": null,
   "id": "69e6d60d",
   "metadata": {},
   "outputs": [],
   "source": []
  },
  {
   "cell_type": "code",
   "execution_count": null,
   "id": "dfe01e65",
   "metadata": {},
   "outputs": [],
   "source": []
  }
 ],
 "metadata": {
  "kernelspec": {
   "display_name": "jet-env",
   "language": "python",
   "name": "python3"
  },
  "language_info": {
   "codemirror_mode": {
    "name": "ipython",
    "version": 3
   },
   "file_extension": ".py",
   "mimetype": "text/x-python",
   "name": "python",
   "nbconvert_exporter": "python",
   "pygments_lexer": "ipython3",
   "version": "3.11.9"
  }
 },
 "nbformat": 4,
 "nbformat_minor": 5
}
