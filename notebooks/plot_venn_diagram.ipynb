{
 "cells": [
  {
   "cell_type": "markdown",
   "id": "de2d3580",
   "metadata": {},
   "source": [
    "# Plot Venn Diagrams between 2 experiments\n",
    "\n",
    "Experiments\n",
    "* Handpicked 37 jets (Guo et al. 2022)\n",
    "* Fontanka (Galitsyna et al., 2023) \n",
    "* Fun (Liu et al., 2024) (not benchmarked but provided by the authors)\n",
    "* Chromosight (Matthey-Doret et al., 2020)"
   ]
  },
  {
   "cell_type": "code",
   "execution_count": null,
   "id": "83f200d1",
   "metadata": {},
   "outputs": [],
   "source": [
    "experiments = [\n",
    "    {\n",
    "        \"hic_file\" : \"/nfs/turbo/umms-minjilab/downloaded_data/Repli-HiC_K562_WT_totalS.hic\",\n",
    "        \"true_file\" : \"\tFUN-pred_K562_WT_50kb_resolution_FC1.3.tab\",\n",
    "        \"experiment_name\" : \"FUN prediction K562 WT\",\n",
    "        \"resolution\" : 50000,\n",
    "        \"genome\" : \"hg19\",\n",
    "    },\n",
    "    {\n",
    "        \n",
    "\n",
    "\n",
    "\n",
    "\n",
    "\n",
    "    }\n",
    "\n",
    "\n",
    "\n",
    "]"
   ]
  },
  {
   "cell_type": "code",
   "execution_count": null,
   "id": "d340b125",
   "metadata": {},
   "outputs": [],
   "source": []
  },
  {
   "cell_type": "code",
   "execution_count": null,
   "id": "349f53b0",
   "metadata": {},
   "outputs": [],
   "source": []
  },
  {
   "cell_type": "code",
   "execution_count": null,
   "id": "36eaf0e7",
   "metadata": {},
   "outputs": [],
   "source": []
  },
  {
   "cell_type": "code",
   "execution_count": null,
   "id": "a758581e",
   "metadata": {},
   "outputs": [],
   "source": []
  },
  {
   "cell_type": "code",
   "execution_count": null,
   "id": "44c70b28",
   "metadata": {},
   "outputs": [],
   "source": []
  }
 ],
 "metadata": {
  "language_info": {
   "name": "python"
  }
 },
 "nbformat": 4,
 "nbformat_minor": 5
}
